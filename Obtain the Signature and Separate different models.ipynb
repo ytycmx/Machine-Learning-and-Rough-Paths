{
  "nbformat": 4,
  "nbformat_minor": 0,
  "metadata": {
    "colab": {
      "name": "Untitled2.ipynb",
      "provenance": [],
      "authorship_tag": "ABX9TyMsVpObnrCLvEP6G+NILyQt",
      "include_colab_link": true
    },
    "kernelspec": {
      "name": "python3",
      "display_name": "Python 3"
    },
    "language_info": {
      "name": "python"
    }
  },
  "cells": [
    {
      "cell_type": "markdown",
      "metadata": {
        "id": "view-in-github",
        "colab_type": "text"
      },
      "source": [
        "<a href=\"https://colab.research.google.com/github/ytycmx/Machine-Learning-and-Rough-Paths/blob/main/Obtain%20the%20Signature%20and%20Separate%20different%20models.ipynb\" target=\"_parent\"><img src=\"https://colab.research.google.com/assets/colab-badge.svg\" alt=\"Open In Colab\"/></a>"
      ]
    },
    {
      "cell_type": "code",
      "execution_count": null,
      "metadata": {
        "id": "PGPErBQnYzYM"
      },
      "outputs": [],
      "source": [
        "import pandas as pd\n",
        "import numpy as np\n",
        "import statsmodels.tsa.api as smt\n",
        "import statsmodels.api as sm\n",
        "import scipy.stats as scs\n",
        "import statsmodels.stats as sms\n",
        "import iisignature\n",
        "import matplotlib.pyplot as plt\n",
        "n = int(500)\n",
        "burn = int(n/10)\n",
        "alphas =np.array([0.5])\n",
        "betas =np.array([0.4])\n",
        "ar =np.r_[1,-alphas]\n",
        "ma =np.r_[1,betas]\n",
        "log =[]\n",
        "log =np.array(log)\n",
        "sig =[]\n",
        "sig =np.array(sig)\n",
        "for q in range(500):\n",
        "  arma11 =smt.arma_generate_sample(ar=ar,ma=ma,nsample=n,burnin=burn)\n",
        "  path =[]\n",
        "  path =np.array(path)\n",
        "  for i in range(len(arma11)-1):\n",
        "    kkk =([arma11[i],arma11[i]],[arma11[i],arma11[i+1]])\n",
        "    path =np.append(path,kkk)\n",
        "  final =([arma11[n-1],arma11[n-1]])\n",
        "  path =np.append(path,final)\n",
        "  finalpath =np.resize(path,(len(path),2))\n",
        "  signature =iisignature.sig(finalpath,2)\n",
        "  s =iisignature.prepare(2,2)\n",
        "  logsignature =iisignature.logsig(finalpath,s)\n",
        "  sig =np.append(sig,signature)\n",
        "  log =np.append(log,logsignature)\n",
        "sig =np.resize(sig,(len(sig),6))\n",
        "log =np.resize(log,(len(log),3))\n",
        "#another 500 samples\n",
        "alphas1 =np.array([0.8])\n",
        "betas1 =np.array([0.1])\n",
        "ar1 =np.r_[1,-alphas1]\n",
        "ma1 =np.r_[1,betas1]\n",
        "log1 =[]\n",
        "log1 =np.array(log1)\n",
        "sig1 =[]\n",
        "sig1 =np.array(sig1)\n",
        "for q in range(500):\n",
        "  arma11ver2 =smt.arma_generate_sample(ar=ar1,ma=ma1,nsample=n,burnin=burn)\n",
        "  path1 =[]\n",
        "  path1 =np.array(path1)\n",
        "  for i in range(len(arma11ver2)-1):\n",
        "    kkk1 =([arma11ver2[i],arma11ver2[i]],[arma11ver2[i],arma11ver2[i+1]])\n",
        "    path1 =np.append(path1,kkk1)\n",
        "  final1 =([arma11ver2[n-1],arma11ver2[n-1]])\n",
        "  path1 =np.append(path1,final1)\n",
        "  finalpath1 =np.resize(path1,(len(path1),2))\n",
        "  signature1 =iisignature.sig(finalpath1,2)\n",
        "  s =iisignature.prepare(2,2)\n",
        "  logsignature1 =iisignature.logsig(finalpath1,s)\n",
        "  sig1 =np.append(sig1,signature1)\n",
        "  log1 =np.append(log1,logsignature1)\n",
        "sig1 =np.resize(sig1,(len(sig1),6))\n",
        "log1 =np.resize(log1,(len(log1),3))\n",
        "#draw the plot\n",
        "fig= plt.figure()\n",
        "pl= fig.add_subplot(111)\n",
        "pl.scatter(sig[:,3],sig[:,4],c = 'y')\n",
        "pl.scatter(sig1[:,3],sig1[:,4])\n",
        "pl.scatter(log[:,0],log[:,2],c = 'y')\n",
        "pl.scatter(log1[:,0],log1[:,2])"
      ]
    }
  ]
}